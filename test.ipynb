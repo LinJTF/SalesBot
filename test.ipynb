{
 "cells": [
  {
   "cell_type": "code",
   "execution_count": null,
   "id": "20803e49",
   "metadata": {},
   "outputs": [],
   "source": [
    "%pip install langfuse openinference-instrumentation-llama-index llama-index-llms-openai llama-index -U"
   ]
  },
  {
   "cell_type": "code",
   "execution_count": null,
   "id": "4bfd4ca2",
   "metadata": {},
   "outputs": [],
   "source": [
    "from dotenv import load_dotenv\n",
    "import os\n",
    "load_dotenv()"
   ]
  },
  {
   "cell_type": "code",
   "execution_count": null,
   "id": "e19f8276",
   "metadata": {},
   "outputs": [],
   "source": [
    "print(f'public key: {os.getenv(\"LANGFUSE_PUBLIC_KEY\")}')"
   ]
  },
  {
   "cell_type": "code",
   "execution_count": 1,
   "id": "a068b2a7",
   "metadata": {},
   "outputs": [
    {
     "name": "stdout",
     "output_type": "stream",
     "text": [
      "Langfuse client is authenticated and ready!\n"
     ]
    }
   ],
   "source": [
    "from langfuse import get_client\n",
    "import os\n",
    "# from langfuse import Langfuse\n",
    "\n",
    "# langfuse = Langfuse(\n",
    "#   secret_key=\"sk-lf-c555842e-205f-4143-87b8-723c1b496ed5\",\n",
    "#   public_key=\"pk-lf-3373ae05-a383-43b4-a5ad-33fec2708f15\",\n",
    "#   host=\"http://localhost:3000\"\n",
    "# )\n",
    "\n",
    "os.environ[\"LANGFUSE_PUBLIC_KEY\"] = \"pk-lf-3373ae05-a383-43b4-a5ad-33fec2708f15\" \n",
    "os.environ[\"LANGFUSE_SECRET_KEY\"] = \"sk-lf-c555842e-205f-4143-87b8-723c1b496ed5\" \n",
    "os.environ[\"LANGFUSE_HOST\"] = \"http://localhost:3000/\"\n",
    "\n",
    "langfuse = get_client()\n",
    "# Verify connection\n",
    "if langfuse.auth_check():\n",
    "    print(\"Langfuse client is authenticated and ready!\")\n",
    "else:\n",
    "    print(\"Authentication failed. Please check your credentials and host.\")"
   ]
  },
  {
   "cell_type": "code",
   "execution_count": 2,
   "id": "e85d565f",
   "metadata": {},
   "outputs": [],
   "source": [
    "from openinference.instrumentation.llama_index import LlamaIndexInstrumentor\n",
    " \n",
    "# Initialize LlamaIndex instrumentation\n",
    "LlamaIndexInstrumentor().instrument()"
   ]
  },
  {
   "cell_type": "code",
   "execution_count": null,
   "id": "e0d4ce0d",
   "metadata": {},
   "outputs": [
    {
     "name": "stdout",
     "output_type": "stream",
     "text": [
      "I'm sorry, but I don't have access to personal data about individuals unless it has been shared with me in the course of our conversation. I am designed to respect user privacy and confidentiality. Therefore, I don't know who you are. If there's anything specific you'd like to discuss or ask, feel free to let me know!\n"
     ]
    },
    {
     "ename": "",
     "evalue": "",
     "output_type": "error",
     "traceback": [
      "\u001b[1;31mThe Kernel crashed while executing code in the current cell or a previous cell. \n",
      "\u001b[1;31mPlease review the code in the cell(s) to identify a possible cause of the failure. \n",
      "\u001b[1;31mClick <a href='https://aka.ms/vscodeJupyterKernelCrash'>here</a> for more info. \n",
      "\u001b[1;31mView Jupyter <a href='command:jupyter.viewOutput'>log</a> for further details."
     ]
    }
   ],
   "source": [
    "from llama_index.llms.openai import OpenAI\n",
    " \n",
    "llm = OpenAI(model=\"gpt-4o\")\n",
    " \n",
    "with langfuse.start_as_current_span(name=\"llama-index-trace\"):\n",
    "    response = llm.complete(\"Do you know who i am?\")\n",
    "    print(response)\n",
    " \n",
    "langfuse.flush()"
   ]
  }
 ],
 "metadata": {
  "kernelspec": {
   "display_name": "genai",
   "language": "python",
   "name": "python3"
  },
  "language_info": {
   "codemirror_mode": {
    "name": "ipython",
    "version": 3
   },
   "file_extension": ".py",
   "mimetype": "text/x-python",
   "name": "python",
   "nbconvert_exporter": "python",
   "pygments_lexer": "ipython3",
   "version": "3.11.13"
  }
 },
 "nbformat": 4,
 "nbformat_minor": 5
}
